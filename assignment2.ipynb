{
 "cells": [
  {
   "cell_type": "code",
   "execution_count": 1,
   "id": "7934b50c6d0981ed",
   "metadata": {
    "collapsed": false
   },
   "outputs": [
    {
     "name": "stdout",
     "output_type": "stream",
     "text": [
      "/workspaces/codespaces-jupyter\n"
     ]
    }
   ],
   "source": [
    "%load_ext autoreload\n",
    "%autoreload 2\n",
    "import os\n",
    "print(os.getcwd())\n",
    "\n",
    "os.environ['PM4PY_SHOW_EVENT_LOG_DEPRECATION'] = 'false'"
   ]
  },
  {
   "cell_type": "code",
   "execution_count": 2,
   "id": "7245a3ea45382e18",
   "metadata": {
    "collapsed": false
   },
   "outputs": [],
   "source": [
    "import pandas as pd\n",
    "import pm4py\n",
    "import matplotlib.pyplot as plt\n",
    "\n",
    "from pm4py.algo.discovery.dcr_discover import algorithm as discover_alg\n",
    "\n",
    "from pm4py.objects.dcr.importer import importer as dcr_importer\n",
    "from pm4py.objects.dcr.exporter import exporter as dcr_exporter\n",
    "\n",
    "from pm4py.algo.conformance.dcr import algorithm as conformance_dcr\n",
    "from pm4py.algo.conformance.alignments.dcr import algorithm as alignments_dcr\n",
    "from pm4py.objects.dcr.obj import DcrGraph\n",
    "from pm4py.objects.dcr.semantics import DcrSemantics\n",
    "\n",
    "from pm4py.vis import view_events_distribution_graph,view_case_duration_graph"
   ]
  },
  {
   "cell_type": "markdown",
   "id": "328fa7eb7f656f72",
   "metadata": {
    "collapsed": false
   },
   "source": [
    "Note: The pm4py library we use in the notebook is an extension with DCR from the original pm4py library. You will find more information on using pm4py here\n",
    "\n",
    "https://pm4py.fit.fraunhofer.de/documentation."
   ]
  },
  {
   "cell_type": "markdown",
   "id": "77e1a80616bec052",
   "metadata": {
    "collapsed": false
   },
   "source": [
    "# Event log data analysis\n",
    "Note: sepsis_df is a pandas dataframe. Feel free to use your knowledge of data frames and data analysis as you see fit. Exploratory Data Analysis (EDA) as you know it from Data Science should work as expected."
   ]
  },
  {
   "cell_type": "code",
   "execution_count": 3,
   "id": "337aa17045479873",
   "metadata": {
    "collapsed": false
   },
   "outputs": [
    {
     "name": "stderr",
     "output_type": "stream",
     "text": [
      "/workspaces/codespaces-jupyter/pm4py/util/dt_parsing/parser.py:77: UserWarning: ISO8601 strings are not fully supported with strpfromiso for Python versions below 3.11\n",
      "  warnings.warn(\n"
     ]
    },
    {
     "data": {
      "application/json": {
       "ascii": false,
       "bar_format": null,
       "colour": null,
       "elapsed": 0.015729427337646484,
       "initial": 0,
       "n": 0,
       "ncols": null,
       "nrows": null,
       "postfix": null,
       "prefix": "parsing log, completed traces :: ",
       "rate": null,
       "total": 1050,
       "unit": "it",
       "unit_divisor": 1000,
       "unit_scale": false
      },
      "application/vnd.jupyter.widget-view+json": {
       "model_id": "6ea51b3eb5f342f1afc53f2200c456f2",
       "version_major": 2,
       "version_minor": 0
      },
      "text/plain": [
       "parsing log, completed traces ::   0%|          | 0/1050 [00:00<?, ?it/s]"
      ]
     },
     "metadata": {},
     "output_type": "display_data"
    },
    {
     "data": {
      "text/html": [
       "<div>\n",
       "<style scoped>\n",
       "    .dataframe tbody tr th:only-of-type {\n",
       "        vertical-align: middle;\n",
       "    }\n",
       "\n",
       "    .dataframe tbody tr th {\n",
       "        vertical-align: top;\n",
       "    }\n",
       "\n",
       "    .dataframe thead th {\n",
       "        text-align: right;\n",
       "    }\n",
       "</style>\n",
       "<table border=\"1\" class=\"dataframe\">\n",
       "  <thead>\n",
       "    <tr style=\"text-align: right;\">\n",
       "      <th></th>\n",
       "      <th>InfectionSuspected</th>\n",
       "      <th>org:group</th>\n",
       "      <th>DiagnosticBlood</th>\n",
       "      <th>DisfuncOrg</th>\n",
       "      <th>SIRSCritTachypnea</th>\n",
       "      <th>Hypotensie</th>\n",
       "      <th>SIRSCritHeartRate</th>\n",
       "      <th>Infusion</th>\n",
       "      <th>DiagnosticArtAstrup</th>\n",
       "      <th>concept:name</th>\n",
       "      <th>...</th>\n",
       "      <th>DiagnosticLacticAcid</th>\n",
       "      <th>lifecycle:transition</th>\n",
       "      <th>Diagnose</th>\n",
       "      <th>Hypoxie</th>\n",
       "      <th>DiagnosticUrinarySediment</th>\n",
       "      <th>DiagnosticECG</th>\n",
       "      <th>case:concept:name</th>\n",
       "      <th>Leucocytes</th>\n",
       "      <th>CRP</th>\n",
       "      <th>LacticAcid</th>\n",
       "    </tr>\n",
       "  </thead>\n",
       "  <tbody>\n",
       "    <tr>\n",
       "      <th>0</th>\n",
       "      <td>True</td>\n",
       "      <td>A</td>\n",
       "      <td>True</td>\n",
       "      <td>True</td>\n",
       "      <td>True</td>\n",
       "      <td>True</td>\n",
       "      <td>True</td>\n",
       "      <td>True</td>\n",
       "      <td>True</td>\n",
       "      <td>ER Registration</td>\n",
       "      <td>...</td>\n",
       "      <td>True</td>\n",
       "      <td>complete</td>\n",
       "      <td>A</td>\n",
       "      <td>False</td>\n",
       "      <td>True</td>\n",
       "      <td>True</td>\n",
       "      <td>A</td>\n",
       "      <td>NaN</td>\n",
       "      <td>NaN</td>\n",
       "      <td>NaN</td>\n",
       "    </tr>\n",
       "    <tr>\n",
       "      <th>1</th>\n",
       "      <td>NaN</td>\n",
       "      <td>B</td>\n",
       "      <td>NaN</td>\n",
       "      <td>NaN</td>\n",
       "      <td>NaN</td>\n",
       "      <td>NaN</td>\n",
       "      <td>NaN</td>\n",
       "      <td>NaN</td>\n",
       "      <td>NaN</td>\n",
       "      <td>Leucocytes</td>\n",
       "      <td>...</td>\n",
       "      <td>NaN</td>\n",
       "      <td>complete</td>\n",
       "      <td>NaN</td>\n",
       "      <td>NaN</td>\n",
       "      <td>NaN</td>\n",
       "      <td>NaN</td>\n",
       "      <td>A</td>\n",
       "      <td>9.6</td>\n",
       "      <td>NaN</td>\n",
       "      <td>NaN</td>\n",
       "    </tr>\n",
       "    <tr>\n",
       "      <th>2</th>\n",
       "      <td>NaN</td>\n",
       "      <td>B</td>\n",
       "      <td>NaN</td>\n",
       "      <td>NaN</td>\n",
       "      <td>NaN</td>\n",
       "      <td>NaN</td>\n",
       "      <td>NaN</td>\n",
       "      <td>NaN</td>\n",
       "      <td>NaN</td>\n",
       "      <td>CRP</td>\n",
       "      <td>...</td>\n",
       "      <td>NaN</td>\n",
       "      <td>complete</td>\n",
       "      <td>NaN</td>\n",
       "      <td>NaN</td>\n",
       "      <td>NaN</td>\n",
       "      <td>NaN</td>\n",
       "      <td>A</td>\n",
       "      <td>NaN</td>\n",
       "      <td>21.0</td>\n",
       "      <td>NaN</td>\n",
       "    </tr>\n",
       "    <tr>\n",
       "      <th>3</th>\n",
       "      <td>NaN</td>\n",
       "      <td>B</td>\n",
       "      <td>NaN</td>\n",
       "      <td>NaN</td>\n",
       "      <td>NaN</td>\n",
       "      <td>NaN</td>\n",
       "      <td>NaN</td>\n",
       "      <td>NaN</td>\n",
       "      <td>NaN</td>\n",
       "      <td>LacticAcid</td>\n",
       "      <td>...</td>\n",
       "      <td>NaN</td>\n",
       "      <td>complete</td>\n",
       "      <td>NaN</td>\n",
       "      <td>NaN</td>\n",
       "      <td>NaN</td>\n",
       "      <td>NaN</td>\n",
       "      <td>A</td>\n",
       "      <td>NaN</td>\n",
       "      <td>NaN</td>\n",
       "      <td>2.2</td>\n",
       "    </tr>\n",
       "    <tr>\n",
       "      <th>4</th>\n",
       "      <td>NaN</td>\n",
       "      <td>C</td>\n",
       "      <td>NaN</td>\n",
       "      <td>NaN</td>\n",
       "      <td>NaN</td>\n",
       "      <td>NaN</td>\n",
       "      <td>NaN</td>\n",
       "      <td>NaN</td>\n",
       "      <td>NaN</td>\n",
       "      <td>ER Triage</td>\n",
       "      <td>...</td>\n",
       "      <td>NaN</td>\n",
       "      <td>complete</td>\n",
       "      <td>NaN</td>\n",
       "      <td>NaN</td>\n",
       "      <td>NaN</td>\n",
       "      <td>NaN</td>\n",
       "      <td>A</td>\n",
       "      <td>NaN</td>\n",
       "      <td>NaN</td>\n",
       "      <td>NaN</td>\n",
       "    </tr>\n",
       "    <tr>\n",
       "      <th>...</th>\n",
       "      <td>...</td>\n",
       "      <td>...</td>\n",
       "      <td>...</td>\n",
       "      <td>...</td>\n",
       "      <td>...</td>\n",
       "      <td>...</td>\n",
       "      <td>...</td>\n",
       "      <td>...</td>\n",
       "      <td>...</td>\n",
       "      <td>...</td>\n",
       "      <td>...</td>\n",
       "      <td>...</td>\n",
       "      <td>...</td>\n",
       "      <td>...</td>\n",
       "      <td>...</td>\n",
       "      <td>...</td>\n",
       "      <td>...</td>\n",
       "      <td>...</td>\n",
       "      <td>...</td>\n",
       "      <td>...</td>\n",
       "      <td>...</td>\n",
       "    </tr>\n",
       "    <tr>\n",
       "      <th>15209</th>\n",
       "      <td>NaN</td>\n",
       "      <td>B</td>\n",
       "      <td>NaN</td>\n",
       "      <td>NaN</td>\n",
       "      <td>NaN</td>\n",
       "      <td>NaN</td>\n",
       "      <td>NaN</td>\n",
       "      <td>NaN</td>\n",
       "      <td>NaN</td>\n",
       "      <td>CRP</td>\n",
       "      <td>...</td>\n",
       "      <td>NaN</td>\n",
       "      <td>complete</td>\n",
       "      <td>NaN</td>\n",
       "      <td>NaN</td>\n",
       "      <td>NaN</td>\n",
       "      <td>NaN</td>\n",
       "      <td>KNA</td>\n",
       "      <td>NaN</td>\n",
       "      <td>66.0</td>\n",
       "      <td>NaN</td>\n",
       "    </tr>\n",
       "    <tr>\n",
       "      <th>15210</th>\n",
       "      <td>NaN</td>\n",
       "      <td>E</td>\n",
       "      <td>NaN</td>\n",
       "      <td>NaN</td>\n",
       "      <td>NaN</td>\n",
       "      <td>NaN</td>\n",
       "      <td>NaN</td>\n",
       "      <td>NaN</td>\n",
       "      <td>NaN</td>\n",
       "      <td>Release A</td>\n",
       "      <td>...</td>\n",
       "      <td>NaN</td>\n",
       "      <td>complete</td>\n",
       "      <td>NaN</td>\n",
       "      <td>NaN</td>\n",
       "      <td>NaN</td>\n",
       "      <td>NaN</td>\n",
       "      <td>KNA</td>\n",
       "      <td>NaN</td>\n",
       "      <td>NaN</td>\n",
       "      <td>NaN</td>\n",
       "    </tr>\n",
       "    <tr>\n",
       "      <th>15211</th>\n",
       "      <td>False</td>\n",
       "      <td>L</td>\n",
       "      <td>False</td>\n",
       "      <td>False</td>\n",
       "      <td>False</td>\n",
       "      <td>False</td>\n",
       "      <td>False</td>\n",
       "      <td>False</td>\n",
       "      <td>False</td>\n",
       "      <td>ER Registration</td>\n",
       "      <td>...</td>\n",
       "      <td>False</td>\n",
       "      <td>complete</td>\n",
       "      <td>NaN</td>\n",
       "      <td>False</td>\n",
       "      <td>False</td>\n",
       "      <td>False</td>\n",
       "      <td>LNA</td>\n",
       "      <td>NaN</td>\n",
       "      <td>NaN</td>\n",
       "      <td>NaN</td>\n",
       "    </tr>\n",
       "    <tr>\n",
       "      <th>15212</th>\n",
       "      <td>NaN</td>\n",
       "      <td>C</td>\n",
       "      <td>NaN</td>\n",
       "      <td>NaN</td>\n",
       "      <td>NaN</td>\n",
       "      <td>NaN</td>\n",
       "      <td>NaN</td>\n",
       "      <td>NaN</td>\n",
       "      <td>NaN</td>\n",
       "      <td>ER Triage</td>\n",
       "      <td>...</td>\n",
       "      <td>NaN</td>\n",
       "      <td>complete</td>\n",
       "      <td>NaN</td>\n",
       "      <td>NaN</td>\n",
       "      <td>NaN</td>\n",
       "      <td>NaN</td>\n",
       "      <td>LNA</td>\n",
       "      <td>NaN</td>\n",
       "      <td>NaN</td>\n",
       "      <td>NaN</td>\n",
       "    </tr>\n",
       "    <tr>\n",
       "      <th>15213</th>\n",
       "      <td>NaN</td>\n",
       "      <td>L</td>\n",
       "      <td>NaN</td>\n",
       "      <td>NaN</td>\n",
       "      <td>NaN</td>\n",
       "      <td>NaN</td>\n",
       "      <td>NaN</td>\n",
       "      <td>NaN</td>\n",
       "      <td>NaN</td>\n",
       "      <td>ER Sepsis Triage</td>\n",
       "      <td>...</td>\n",
       "      <td>NaN</td>\n",
       "      <td>complete</td>\n",
       "      <td>NaN</td>\n",
       "      <td>NaN</td>\n",
       "      <td>NaN</td>\n",
       "      <td>NaN</td>\n",
       "      <td>LNA</td>\n",
       "      <td>NaN</td>\n",
       "      <td>NaN</td>\n",
       "      <td>NaN</td>\n",
       "    </tr>\n",
       "  </tbody>\n",
       "</table>\n",
       "<p>15214 rows × 32 columns</p>\n",
       "</div>"
      ],
      "text/plain": [
       "      InfectionSuspected org:group DiagnosticBlood DisfuncOrg  \\\n",
       "0                   True         A            True       True   \n",
       "1                    NaN         B             NaN        NaN   \n",
       "2                    NaN         B             NaN        NaN   \n",
       "3                    NaN         B             NaN        NaN   \n",
       "4                    NaN         C             NaN        NaN   \n",
       "...                  ...       ...             ...        ...   \n",
       "15209                NaN         B             NaN        NaN   \n",
       "15210                NaN         E             NaN        NaN   \n",
       "15211              False         L           False      False   \n",
       "15212                NaN         C             NaN        NaN   \n",
       "15213                NaN         L             NaN        NaN   \n",
       "\n",
       "      SIRSCritTachypnea Hypotensie SIRSCritHeartRate Infusion  \\\n",
       "0                  True       True              True     True   \n",
       "1                   NaN        NaN               NaN      NaN   \n",
       "2                   NaN        NaN               NaN      NaN   \n",
       "3                   NaN        NaN               NaN      NaN   \n",
       "4                   NaN        NaN               NaN      NaN   \n",
       "...                 ...        ...               ...      ...   \n",
       "15209               NaN        NaN               NaN      NaN   \n",
       "15210               NaN        NaN               NaN      NaN   \n",
       "15211             False      False             False    False   \n",
       "15212               NaN        NaN               NaN      NaN   \n",
       "15213               NaN        NaN               NaN      NaN   \n",
       "\n",
       "      DiagnosticArtAstrup      concept:name  ...  DiagnosticLacticAcid  \\\n",
       "0                    True   ER Registration  ...                  True   \n",
       "1                     NaN        Leucocytes  ...                   NaN   \n",
       "2                     NaN               CRP  ...                   NaN   \n",
       "3                     NaN        LacticAcid  ...                   NaN   \n",
       "4                     NaN         ER Triage  ...                   NaN   \n",
       "...                   ...               ...  ...                   ...   \n",
       "15209                 NaN               CRP  ...                   NaN   \n",
       "15210                 NaN         Release A  ...                   NaN   \n",
       "15211               False   ER Registration  ...                 False   \n",
       "15212                 NaN         ER Triage  ...                   NaN   \n",
       "15213                 NaN  ER Sepsis Triage  ...                   NaN   \n",
       "\n",
       "      lifecycle:transition Diagnose Hypoxie DiagnosticUrinarySediment  \\\n",
       "0                 complete        A   False                      True   \n",
       "1                 complete      NaN     NaN                       NaN   \n",
       "2                 complete      NaN     NaN                       NaN   \n",
       "3                 complete      NaN     NaN                       NaN   \n",
       "4                 complete      NaN     NaN                       NaN   \n",
       "...                    ...      ...     ...                       ...   \n",
       "15209             complete      NaN     NaN                       NaN   \n",
       "15210             complete      NaN     NaN                       NaN   \n",
       "15211             complete      NaN   False                     False   \n",
       "15212             complete      NaN     NaN                       NaN   \n",
       "15213             complete      NaN     NaN                       NaN   \n",
       "\n",
       "      DiagnosticECG case:concept:name Leucocytes   CRP LacticAcid  \n",
       "0              True                 A        NaN   NaN        NaN  \n",
       "1               NaN                 A        9.6   NaN        NaN  \n",
       "2               NaN                 A        NaN  21.0        NaN  \n",
       "3               NaN                 A        NaN   NaN        2.2  \n",
       "4               NaN                 A        NaN   NaN        NaN  \n",
       "...             ...               ...        ...   ...        ...  \n",
       "15209           NaN               KNA        NaN  66.0        NaN  \n",
       "15210           NaN               KNA        NaN   NaN        NaN  \n",
       "15211         False               LNA        NaN   NaN        NaN  \n",
       "15212           NaN               LNA        NaN   NaN        NaN  \n",
       "15213           NaN               LNA        NaN   NaN        NaN  \n",
       "\n",
       "[15214 rows x 32 columns]"
      ]
     },
     "execution_count": 3,
     "metadata": {},
     "output_type": "execute_result"
    }
   ],
   "source": [
    "event_log_file = 'data/Sepsis Cases - Event Log.xes'\n",
    "sepsis_df = pm4py.read_xes(event_log_file, infer_datetime_format=True) #loading the log\n",
    "sepsis_df # note there are many NaN values, this is expected. When you have a not NaN value look at the concept:name to understand the link between the data attribute and the event.\n"
   ]
  },
  {
   "cell_type": "code",
   "execution_count": 4,
   "id": "dfa50b10851fd340",
   "metadata": {
    "collapsed": false
   },
   "outputs": [],
   "source": [
    "returning = sepsis_df[sepsis_df['concept:name']=='Return ER']['case:concept:name'].unique().tolist()"
   ]
  },
  {
   "cell_type": "code",
   "execution_count": 5,
   "id": "69e0f4b8b0af96f3",
   "metadata": {
    "collapsed": false
   },
   "outputs": [
    {
     "data": {
      "text/html": [
       "<div>\n",
       "<style scoped>\n",
       "    .dataframe tbody tr th:only-of-type {\n",
       "        vertical-align: middle;\n",
       "    }\n",
       "\n",
       "    .dataframe tbody tr th {\n",
       "        vertical-align: top;\n",
       "    }\n",
       "\n",
       "    .dataframe thead th {\n",
       "        text-align: right;\n",
       "    }\n",
       "</style>\n",
       "<table border=\"1\" class=\"dataframe\">\n",
       "  <thead>\n",
       "    <tr style=\"text-align: right;\">\n",
       "      <th></th>\n",
       "      <th>Age</th>\n",
       "      <th>Leucocytes</th>\n",
       "      <th>CRP</th>\n",
       "      <th>LacticAcid</th>\n",
       "    </tr>\n",
       "  </thead>\n",
       "  <tbody>\n",
       "    <tr>\n",
       "      <th>count</th>\n",
       "      <td>1050.000000</td>\n",
       "      <td>3361.00000</td>\n",
       "      <td>3123.000000</td>\n",
       "      <td>1454.000000</td>\n",
       "    </tr>\n",
       "    <tr>\n",
       "      <th>mean</th>\n",
       "      <td>70.080952</td>\n",
       "      <td>12.94936</td>\n",
       "      <td>113.745757</td>\n",
       "      <td>1.949106</td>\n",
       "    </tr>\n",
       "    <tr>\n",
       "      <th>std</th>\n",
       "      <td>17.356744</td>\n",
       "      <td>14.99533</td>\n",
       "      <td>86.775355</td>\n",
       "      <td>1.478633</td>\n",
       "    </tr>\n",
       "    <tr>\n",
       "      <th>min</th>\n",
       "      <td>20.000000</td>\n",
       "      <td>0.20000</td>\n",
       "      <td>5.000000</td>\n",
       "      <td>0.200000</td>\n",
       "    </tr>\n",
       "    <tr>\n",
       "      <th>25%</th>\n",
       "      <td>60.000000</td>\n",
       "      <td>7.70000</td>\n",
       "      <td>43.000000</td>\n",
       "      <td>1.100000</td>\n",
       "    </tr>\n",
       "    <tr>\n",
       "      <th>50%</th>\n",
       "      <td>75.000000</td>\n",
       "      <td>11.00000</td>\n",
       "      <td>95.000000</td>\n",
       "      <td>1.600000</td>\n",
       "    </tr>\n",
       "    <tr>\n",
       "      <th>75%</th>\n",
       "      <td>85.000000</td>\n",
       "      <td>15.00000</td>\n",
       "      <td>162.000000</td>\n",
       "      <td>2.300000</td>\n",
       "    </tr>\n",
       "    <tr>\n",
       "      <th>max</th>\n",
       "      <td>90.000000</td>\n",
       "      <td>381.30000</td>\n",
       "      <td>573.000000</td>\n",
       "      <td>14.900000</td>\n",
       "    </tr>\n",
       "  </tbody>\n",
       "</table>\n",
       "</div>"
      ],
      "text/plain": [
       "               Age  Leucocytes          CRP   LacticAcid\n",
       "count  1050.000000  3361.00000  3123.000000  1454.000000\n",
       "mean     70.080952    12.94936   113.745757     1.949106\n",
       "std      17.356744    14.99533    86.775355     1.478633\n",
       "min      20.000000     0.20000     5.000000     0.200000\n",
       "25%      60.000000     7.70000    43.000000     1.100000\n",
       "50%      75.000000    11.00000    95.000000     1.600000\n",
       "75%      85.000000    15.00000   162.000000     2.300000\n",
       "max      90.000000   381.30000   573.000000    14.900000"
      ]
     },
     "execution_count": 5,
     "metadata": {},
     "output_type": "execute_result"
    }
   ],
   "source": [
    "sepsis_df.describe() # this will only describe numerical columns"
   ]
  },
  {
   "cell_type": "code",
   "execution_count": 6,
   "id": "b451732821f7106",
   "metadata": {
    "collapsed": false
   },
   "outputs": [
    {
     "data": {
      "text/plain": [
       "Index(['InfectionSuspected', 'org:group', 'DiagnosticBlood', 'DisfuncOrg',\n",
       "       'SIRSCritTachypnea', 'Hypotensie', 'SIRSCritHeartRate', 'Infusion',\n",
       "       'DiagnosticArtAstrup', 'concept:name', 'Age', 'DiagnosticIC',\n",
       "       'DiagnosticSputum', 'DiagnosticLiquor', 'DiagnosticOther',\n",
       "       'SIRSCriteria2OrMore', 'DiagnosticXthorax', 'SIRSCritTemperature',\n",
       "       'time:timestamp', 'DiagnosticUrinaryCulture', 'SIRSCritLeucos',\n",
       "       'Oligurie', 'DiagnosticLacticAcid', 'lifecycle:transition', 'Diagnose',\n",
       "       'Hypoxie', 'DiagnosticUrinarySediment', 'DiagnosticECG',\n",
       "       'case:concept:name', 'Leucocytes', 'CRP', 'LacticAcid'],\n",
       "      dtype='object')"
      ]
     },
     "execution_count": 6,
     "metadata": {},
     "output_type": "execute_result"
    }
   ],
   "source": [
    "sepsis_df.columns #list of all columns"
   ]
  },
  {
   "cell_type": "markdown",
   "id": "4b0c00f2e288b58b",
   "metadata": {
    "collapsed": false
   },
   "source": []
  },
  {
   "cell_type": "code",
   "execution_count": 7,
   "id": "af05e2df1bf7530f",
   "metadata": {
    "collapsed": false
   },
   "outputs": [
    {
     "name": "stdout",
     "output_type": "stream",
     "text": [
      "1050\n",
      "294\n"
     ]
    }
   ],
   "source": [
    "#TODO add your code for question 1.1 \n",
    "\n",
    "#How many cases are in total? \n",
    "total_cases_count = sepsis_df['case:concept:name'].nunique()\n",
    "print(total_cases_count)\n",
    "\n",
    "#And how many return to the ER? \n",
    "returning_to_er_count = len(returning)\n",
    "print(returning_to_er_count)"
   ]
  },
  {
   "cell_type": "markdown",
   "id": "d8d8ad13ee3b4a2f",
   "metadata": {
    "collapsed": false
   },
   "source": [
    "Example: number of cases with hypotension."
   ]
  },
  {
   "cell_type": "code",
   "execution_count": 8,
   "id": "e28fa8aa75eb281",
   "metadata": {
    "collapsed": false
   },
   "outputs": [
    {
     "data": {
      "text/plain": [
       "54"
      ]
     },
     "execution_count": 8,
     "metadata": {},
     "output_type": "execute_result"
    }
   ],
   "source": [
    "sepsis_df[sepsis_df['Hypotensie']==True]['case:concept:name'].nunique()"
   ]
  },
  {
   "cell_type": "code",
   "execution_count": 9,
   "id": "2748fb90",
   "metadata": {},
   "outputs": [
    {
     "name": "stdout",
     "output_type": "stream",
     "text": [
      "848\n"
     ]
    }
   ],
   "source": [
    "#TODO add your code for 1.2\n",
    "\n",
    "#How many cases have infection suspected?\n",
    "infection_suspected = sepsis_df[sepsis_df['InfectionSuspected']==True]['case:concept:name'].nunique()\n",
    "print(infection_suspected)\n"
   ]
  },
  {
   "cell_type": "markdown",
   "id": "f1eff2f09e8738f2",
   "metadata": {
    "collapsed": false
   },
   "source": [
    "Example: Mean (average) patient age. Note that age is related to \"ER Registration\" and patients with a higher than average age."
   ]
  },
  {
   "cell_type": "code",
   "execution_count": 10,
   "id": "ff6d41044903391a",
   "metadata": {
    "collapsed": false
   },
   "outputs": [
    {
     "data": {
      "text/plain": [
       "count    995.000000\n",
       "mean      70.190955\n",
       "std       17.384679\n",
       "min       20.000000\n",
       "25%       60.000000\n",
       "50%       75.000000\n",
       "75%       85.000000\n",
       "max       90.000000\n",
       "Name: Age, dtype: float64"
      ]
     },
     "execution_count": 10,
     "metadata": {},
     "output_type": "execute_result"
    }
   ],
   "source": [
    "sepsis_df[sepsis_df['concept:name']=='ER Registration']['Age'].describe()"
   ]
  },
  {
   "cell_type": "code",
   "execution_count": 11,
   "id": "3686cbfd7ad736d7",
   "metadata": {
    "collapsed": false
   },
   "outputs": [
    {
     "data": {
      "text/plain": [
       "<matplotlib.legend.Legend at 0x7f2c247796f0>"
      ]
     },
     "execution_count": 11,
     "metadata": {},
     "output_type": "execute_result"
    },
    {
     "data": {
      "image/png": "[encoded data removed]",
      "text/plain": [
       "<Figure size 1000x800 with 1 Axes>"
      ]
     },
     "metadata": {},
     "output_type": "display_data"
    }
   ],
   "source": [
    "mean_age = sepsis_df[sepsis_df['concept:name']=='ER Registration']['Age'].mean()\n",
    "ax = sepsis_df[sepsis_df['concept:name']=='ER Registration'].plot.hist(column=['Age'],figsize=(10, 8))\n",
    "ax.axvline(x=mean_age,color='r',linestyle='--',label='Average Age')\n",
    "ax.legend()"
   ]
  },
  {
   "cell_type": "code",
   "execution_count": 12,
   "id": "2f551952e5c3820b",
   "metadata": {
    "collapsed": false
   },
   "outputs": [
    {
     "data": {
      "text/plain": [
       "543"
      ]
     },
     "execution_count": 12,
     "metadata": {},
     "output_type": "execute_result"
    }
   ],
   "source": [
    "# Number of cases with a higher than average age according to the log\n",
    "sepsis_df[(sepsis_df['Age']>mean_age) & (sepsis_df['concept:name']=='ER Registration')]['case:concept:name'].nunique()\n"
   ]
  },
  {
   "cell_type": "code",
   "execution_count": 13,
   "metadata": {},
   "outputs": [
    {
     "name": "stdout",
     "output_type": "stream",
     "text": [
      "12.949360309431718\n",
      "113.74575728466219\n",
      "1.9491059147180192\n"
     ]
    }
   ],
   "source": [
    "#TODO add your code for 1.3. \n",
    "\n",
    "#Look at the measurement events only. What is the average (mean) measurement values for \n",
    "\n",
    "#Leucocytes\n",
    "leucocytes_mean = sepsis_df[sepsis_df['concept:name']=='Leucocytes']['Leucocytes'].mean()\n",
    "print(leucocytes_mean)\n",
    "\n",
    "#CRP \n",
    "crp_mean = sepsis_df[sepsis_df['concept:name']=='CRP']['CRP'].mean()\n",
    "print(crp_mean)\n",
    "\n",
    "#LacticAcid\n",
    "lacticacid_mean = sepsis_df[sepsis_df['concept:name']=='LacticAcid']['LacticAcid'].mean()\n",
    "print(lacticacid_mean)\n",
    "\n"
   ]
  },
  {
   "cell_type": "code",
   "execution_count": 14,
   "id": "c2c9cd74",
   "metadata": {},
   "outputs": [
    {
     "name": "stdout",
     "output_type": "stream",
     "text": [
      "533\n",
      "544\n",
      "345\n"
     ]
    }
   ],
   "source": [
    "#For each measurement type, find how many cases report at least one higher than average result?\n",
    "leucocytes_high = sepsis_df[(sepsis_df['Leucocytes']>leucocytes_mean) & \n",
    "                            (sepsis_df['concept:name']=='Leucocytes')]['case:concept:name'].nunique()\n",
    "print(leucocytes_high)\n",
    "\n",
    "crp_high = sepsis_df[(sepsis_df['CRP']>crp_mean) & \n",
    "                     (sepsis_df['concept:name']=='CRP')]['case:concept:name'].nunique()\n",
    "print(crp_high)\n",
    "\n",
    "lacticacid_high = sepsis_df[(sepsis_df['LacticAcid']>lacticacid_mean) & \n",
    "                            (sepsis_df['concept:name']=='LacticAcid')]['case:concept:name'].nunique()\n",
    "print(lacticacid_high)"
   ]
  },
  {
   "cell_type": "markdown",
   "id": "be91fd4ba304d7e8",
   "metadata": {
    "collapsed": false
   },
   "source": [
    "# More descriptive statistics"
   ]
  },
  {
   "cell_type": "markdown",
   "id": "c1671ece3bedd353",
   "metadata": {
    "collapsed": false
   },
   "source": [
    "## Activity Ocurrences"
   ]
  },
  {
   "cell_type": "code",
   "execution_count": 15,
   "id": "2135fc235bb69efa",
   "metadata": {
    "collapsed": false
   },
   "outputs": [
    {
     "data": {
      "text/plain": [
       "concept:name\n",
       "Leucocytes          3383\n",
       "CRP                 3262\n",
       "LacticAcid          1466\n",
       "Admission NC        1182\n",
       "ER Triage           1053\n",
       "ER Registration     1050\n",
       "ER Sepsis Triage    1049\n",
       "IV Antibiotics       823\n",
       "IV Liquid            753\n",
       "Release A            671\n",
       "Return ER            294\n",
       "Admission IC         117\n",
       "Release B             56\n",
       "Release C             25\n",
       "Release D             24\n",
       "Release E              6\n",
       "Name: count, dtype: int64"
      ]
     },
     "execution_count": 15,
     "metadata": {},
     "output_type": "execute_result"
    }
   ],
   "source": [
    "sepsis_df[\"concept:name\"].value_counts()"
   ]
  },
  {
   "cell_type": "markdown",
   "id": "86e717946b54325a",
   "metadata": {
    "collapsed": false
   },
   "source": [
    "# Activities in Cases"
   ]
  },
  {
   "cell_type": "code",
   "execution_count": 16,
   "id": "9f5b76b4b2f8cdfc",
   "metadata": {
    "collapsed": false
   },
   "outputs": [
    {
     "data": {
      "text/plain": [
       "concept:name\n",
       "ER Registration     1050\n",
       "ER Triage           1050\n",
       "ER Sepsis Triage    1049\n",
       "Leucocytes          1012\n",
       "CRP                 1007\n",
       "LacticAcid           860\n",
       "IV Antibiotics       823\n",
       "Admission NC         800\n",
       "IV Liquid            753\n",
       "Release A            671\n",
       "Return ER            294\n",
       "Admission IC         110\n",
       "Release B             56\n",
       "Release C             25\n",
       "Release D             24\n",
       "Release E              6\n",
       "Name: count, dtype: int64"
      ]
     },
     "execution_count": 16,
     "metadata": {},
     "output_type": "execute_result"
    }
   ],
   "source": [
    "sepsis_df.groupby([\"case:concept:name\", \"concept:name\"]).first().reset_index()[\"concept:name\"].value_counts()"
   ]
  },
  {
   "cell_type": "markdown",
   "id": "bfffbf21faa55798",
   "metadata": {
    "collapsed": false
   },
   "source": [
    "# Start Activities"
   ]
  },
  {
   "cell_type": "code",
   "execution_count": 17,
   "id": "77260aabc4791291",
   "metadata": {
    "collapsed": false
   },
   "outputs": [
    {
     "data": {
      "text/plain": [
       "concept:name\n",
       "ER Registration     995\n",
       "Leucocytes           18\n",
       "IV Liquid            14\n",
       "CRP                  10\n",
       "ER Sepsis Triage      7\n",
       "ER Triage             6\n",
       "Name: count, dtype: int64"
      ]
     },
     "execution_count": 17,
     "metadata": {},
     "output_type": "execute_result"
    }
   ],
   "source": [
    "sepsis_df.groupby(\"case:concept:name\").first()[\"concept:name\"].value_counts()"
   ]
  },
  {
   "cell_type": "markdown",
   "id": "dddcaf44d35658f6",
   "metadata": {
    "collapsed": false
   },
   "source": [
    "# End Activites"
   ]
  },
  {
   "cell_type": "code",
   "execution_count": 18,
   "id": "b19ef6f727224507",
   "metadata": {
    "collapsed": false
   },
   "outputs": [
    {
     "data": {
      "text/plain": [
       "concept:name\n",
       "Release A           393\n",
       "Return ER           291\n",
       "IV Antibiotics       87\n",
       "Release B            55\n",
       "ER Sepsis Triage     49\n",
       "Leucocytes           44\n",
       "CRP                  41\n",
       "LacticAcid           24\n",
       "Release C            19\n",
       "Admission NC         14\n",
       "Release D            14\n",
       "IV Liquid            12\n",
       "Release E             5\n",
       "ER Triage             2\n",
       "Name: count, dtype: int64"
      ]
     },
     "execution_count": 18,
     "metadata": {},
     "output_type": "execute_result"
    }
   ],
   "source": [
    "sepsis_df.groupby(\"case:concept:name\").last()[\"concept:name\"].value_counts()"
   ]
  },
  {
   "cell_type": "code",
   "execution_count": 19,
   "id": "1ee07e9dbd5343fe",
   "metadata": {
    "collapsed": false
   },
   "outputs": [
    {
     "data": {
      "image/png": "[encoded data removed]",
      "text/plain": [
       "<IPython.core.display.Image object>"
      ]
     },
     "metadata": {},
     "output_type": "display_data"
    }
   ],
   "source": [
    "view_case_duration_graph(sepsis_df,kwargs={'pylot_plot_kwargs':{'linestyle':'-'}})"
   ]
  },
  {
   "cell_type": "code",
   "execution_count": 20,
   "id": "25e67afac5d412c4",
   "metadata": {
    "collapsed": false
   },
   "outputs": [
    {
     "data": {
      "image/png": "[encoded data removed]",
      "text/plain": [
       "<IPython.core.display.Image object>"
      ]
     },
     "metadata": {},
     "output_type": "display_data"
    }
   ],
   "source": [
    "view_events_distribution_graph(sepsis_df,distr_type='years')"
   ]
  },
  {
   "cell_type": "code",
   "execution_count": 21,
   "id": "c6a1faad1b4350b9",
   "metadata": {
    "collapsed": false
   },
   "outputs": [
    {
     "data": {
      "image/png": "[encoded data removed]",
      "text/plain": [
       "<IPython.core.display.Image object>"
      ]
     },
     "metadata": {},
     "output_type": "display_data"
    }
   ],
   "source": [
    "view_events_distribution_graph(sepsis_df,distr_type='months')"
   ]
  },
  {
   "cell_type": "markdown",
   "id": "d5fde1dea740411a",
   "metadata": {
    "collapsed": false
   },
   "source": [
    "# Part 2.1 Process discovery\n",
    "Note: The model mined with this version of DisCoveR is more complex than the one from the dcrgraphs.net portal. It finds more relations.\n",
    "\n",
    "Note 2: 'conditionsFor' represents the inverse reading of a condition arrow (this was done for efficient checking of the enabledness definition). \n",
    "    For example, you should read that 'Release D' is a conditionFor 'Return ER' ('Release D'-->*'Return ER'), but in the python object you will see it as 'conditionsFor': 'Return ER' {'Release D',...\n",
    "\n",
    "Note 3: The other relations 'includesTo' (-->+), 'excludesTo' (-->%), 'responseTo' (*-->) are represented in the python object in the same direction as the arrows indicate. \n",
    "    For example, 'excludesTo': { ... 'Return ER': {'Return ER', 'Release B' ... encodes the visual self exclusion on 'Return ER' and that 'Return ER' excludes 'Release B' ('Return ER' -->% 'Release B') "
   ]
  },
  {
   "cell_type": "code",
   "execution_count": 22,
   "id": "d37798356f54aee4",
   "metadata": {
    "collapsed": false
   },
   "outputs": [
    {
     "ename": "OSError",
     "evalue": "Error reading file 'models/sepsis_dcr_portal.xml': failed to load external entity \"models/sepsis_dcr_portal.xml\"",
     "output_type": "error",
     "traceback": [
      "\u001b[0;31m---------------------------------------------------------------------------\u001b[0m",
      "\u001b[0;31mOSError\u001b[0m                                   Traceback (most recent call last)",
      "Cell \u001b[0;32mIn[22], line 1\u001b[0m\n\u001b[0;32m----> 1\u001b[0m dcr_sepsis_from_portal \u001b[38;5;241m=\u001b[39m \u001b[43mdcr_importer\u001b[49m\u001b[38;5;241;43m.\u001b[39;49m\u001b[43mapply\u001b[49m\u001b[43m(\u001b[49m\u001b[38;5;124;43m'\u001b[39;49m\u001b[38;5;124;43mmodels/sepsis_dcr_portal.xml\u001b[39;49m\u001b[38;5;124;43m'\u001b[39;49m\u001b[43m)\u001b[49m\n\u001b[1;32m      2\u001b[0m \u001b[38;5;28mprint\u001b[39m(\u001b[38;5;124m'\u001b[39m\u001b[38;5;124mInspect the mined DCR Graph from the portal\u001b[39m\u001b[38;5;124m'\u001b[39m)\n\u001b[1;32m      3\u001b[0m \u001b[38;5;28mprint\u001b[39m(\u001b[38;5;124mf\u001b[39m\u001b[38;5;124m'\u001b[39m\u001b[38;5;124m[Found relations] \u001b[39m\u001b[38;5;132;01m{\u001b[39;00mdcr_sepsis_from_portal\u001b[38;5;241m.\u001b[39mget_constraints()\u001b[38;5;132;01m}\u001b[39;00m\u001b[38;5;124m'\u001b[39m)\n",
      "File \u001b[0;32m/workspaces/codespaces-jupyter/pm4py/objects/dcr/importer/importer.py:36\u001b[0m, in \u001b[0;36mapply\u001b[0;34m(path, variant, parameters)\u001b[0m\n\u001b[1;32m     33\u001b[0m \u001b[38;5;28;01mif\u001b[39;00m parameters \u001b[38;5;129;01mis\u001b[39;00m \u001b[38;5;28;01mNone\u001b[39;00m:\n\u001b[1;32m     34\u001b[0m     parameters \u001b[38;5;241m=\u001b[39m {}\n\u001b[0;32m---> 36\u001b[0m \u001b[38;5;28;01mreturn\u001b[39;00m \u001b[43mexec_utils\u001b[49m\u001b[38;5;241;43m.\u001b[39;49m\u001b[43mget_variant\u001b[49m\u001b[43m(\u001b[49m\u001b[43mvariant\u001b[49m\u001b[43m)\u001b[49m\u001b[38;5;241;43m.\u001b[39;49m\u001b[43mapply\u001b[49m\u001b[43m(\u001b[49m\u001b[43mpath\u001b[49m\u001b[43m,\u001b[49m\u001b[43m \u001b[49m\u001b[43mparameters\u001b[49m\u001b[38;5;241;43m=\u001b[39;49m\u001b[43mparameters\u001b[49m\u001b[43m)\u001b[49m\n",
      "File \u001b[0;32m/workspaces/codespaces-jupyter/pm4py/objects/dcr/importer/variants/xml_dcr_portal.py:288\u001b[0m, in \u001b[0;36mapply\u001b[0;34m(path, parameters)\u001b[0m\n\u001b[1;32m    285\u001b[0m \u001b[38;5;28;01mfrom\u001b[39;00m \u001b[38;5;21;01mlxml\u001b[39;00m \u001b[38;5;28;01mimport\u001b[39;00m etree, objectify\n\u001b[1;32m    287\u001b[0m parser \u001b[38;5;241m=\u001b[39m etree\u001b[38;5;241m.\u001b[39mXMLParser(remove_comments\u001b[38;5;241m=\u001b[39m\u001b[38;5;28;01mTrue\u001b[39;00m)\n\u001b[0;32m--> 288\u001b[0m xml_tree \u001b[38;5;241m=\u001b[39m \u001b[43mobjectify\u001b[49m\u001b[38;5;241;43m.\u001b[39;49m\u001b[43mparse\u001b[49m\u001b[43m(\u001b[49m\u001b[43mpath\u001b[49m\u001b[43m,\u001b[49m\u001b[43m \u001b[49m\u001b[43mparser\u001b[49m\u001b[38;5;241;43m=\u001b[39;49m\u001b[43mparser\u001b[49m\u001b[43m)\u001b[49m\n\u001b[1;32m    290\u001b[0m \u001b[38;5;28;01mreturn\u001b[39;00m import_xml_tree_from_root(xml_tree\u001b[38;5;241m.\u001b[39mgetroot(), \u001b[38;5;241m*\u001b[39m\u001b[38;5;241m*\u001b[39mparameters)\n",
      "File \u001b[0;32msrc/lxml/objectify.pyx:2008\u001b[0m, in \u001b[0;36mlxml.objectify.parse\u001b[0;34m()\u001b[0m\n",
      "File \u001b[0;32msrc/lxml/etree.pyx:3547\u001b[0m, in \u001b[0;36mlxml.etree.parse\u001b[0;34m()\u001b[0m\n",
      "File \u001b[0;32msrc/lxml/parser.pxi:1952\u001b[0m, in \u001b[0;36mlxml.etree._parseDocument\u001b[0;34m()\u001b[0m\n",
      "File \u001b[0;32msrc/lxml/parser.pxi:1978\u001b[0m, in \u001b[0;36mlxml.etree._parseDocumentFromURL\u001b[0;34m()\u001b[0m\n",
      "File \u001b[0;32msrc/lxml/parser.pxi:1881\u001b[0m, in \u001b[0;36mlxml.etree._parseDocFromFile\u001b[0;34m()\u001b[0m\n",
      "File \u001b[0;32msrc/lxml/parser.pxi:1200\u001b[0m, in \u001b[0;36mlxml.etree._BaseParser._parseDocFromFile\u001b[0;34m()\u001b[0m\n",
      "File \u001b[0;32msrc/lxml/parser.pxi:633\u001b[0m, in \u001b[0;36mlxml.etree._ParserContext._handleParseResultDoc\u001b[0;34m()\u001b[0m\n",
      "File \u001b[0;32msrc/lxml/parser.pxi:743\u001b[0m, in \u001b[0;36mlxml.etree._handleParseResult\u001b[0;34m()\u001b[0m\n",
      "File \u001b[0;32msrc/lxml/parser.pxi:670\u001b[0m, in \u001b[0;36mlxml.etree._raiseParseError\u001b[0;34m()\u001b[0m\n",
      "\u001b[0;31mOSError\u001b[0m: Error reading file 'models/sepsis_dcr_portal.xml': failed to load external entity \"models/sepsis_dcr_portal.xml\""
     ]
    }
   ],
   "source": [
    "dcr_sepsis_from_portal = dcr_importer.apply('models/sepsis_dcr_portal.xml')\n",
    "print('Inspect the mined DCR Graph from the portal')\n",
    "print(f'[Found relations] {dcr_sepsis_from_portal.get_constraints()}')\n",
    "print(f'[conditionsFor] {dcr_sepsis_from_portal.conditions}')\n",
    "print(f'[excludesTo] {dcr_sepsis_from_portal.excludes}')\n",
    "# when you discover (mine) a DCR Graph the marking you get will have all events included, none executed and none pending\n",
    "print(f'[marking executed] {dcr_sepsis_from_portal.marking.executed}')\n",
    "print(f'[marking included] {dcr_sepsis_from_portal.marking.included}')\n",
    "print(f'[marking pending] {dcr_sepsis_from_portal.marking.pending}')"
   ]
  },
  {
   "cell_type": "code",
   "execution_count": null,
   "id": "427198a58b95f5f5",
   "metadata": {
    "collapsed": false
   },
   "outputs": [],
   "source": [
    "dcr_sepsis, log_abstraction = discover_alg.apply(sepsis_df) # this discovers a model for the whole log\n",
    "print('Inspect the mined DCR Graph from pm4py')\n",
    "print(f'[Found relations] {dcr_sepsis.get_constraints()}')\n",
    "print(f'[conditionsFor] {dcr_sepsis.conditions}')\n",
    "print(f'[excludesTo] {dcr_sepsis.excludes}')\n",
    "# when you discover (mine) a DCR Graph the marking you get will have all events included, none executed and none pending\n",
    "print(f'[marking executed] {dcr_sepsis.marking.executed}')\n",
    "print(f'[marking included] {dcr_sepsis.marking.included}')\n",
    "print(f'[marking pending] {dcr_sepsis.marking.pending}')"
   ]
  },
  {
   "cell_type": "markdown",
   "id": "32e61a93d241a6ea",
   "metadata": {
    "collapsed": false
   },
   "source": [
    "Example: play with the execution semantics in the notebook"
   ]
  },
  {
   "cell_type": "code",
   "execution_count": null,
   "id": "c0a8f21a2b4b65c5",
   "metadata": {
    "collapsed": false
   },
   "outputs": [],
   "source": [
    "def execute_and_check(event_to_execute,dcr_graph, dcr_semantics):\n",
    "    enabled_events = dcr_semantics.enabled(dcr_graph)\n",
    "    print(f'[Before executing {event_to_execute}] Enabled events: {enabled_events}') # check enabled events\n",
    "    if event_to_execute in enabled_events: # check if I can execute the event_to_execute\n",
    "        dcr_graph_new_marking = dcr_semantics.execute(event_to_execute,dcr_graph) # here you execute the event and change the state of the dcr graph\n",
    "        print(f'[ After executing {event_to_execute}] Enabled events: {dcr_semantics.enabled(dcr_graph_new_marking)}') # now these are the newly enabled events\n",
    "        print(f'[Is the graph accepting?] {dcr_semantics.is_accepting(dcr_graph_new_marking)}')\n",
    "        return dcr_graph_new_marking\n",
    "    else:\n",
    "        print(f'[Error!] {event_to_execute} not in the set of enabled events')\n",
    "        return dcr_graph\n",
    "\n",
    "dcr_semantics = DcrSemantics()\n",
    "event_to_execute1 = 'CRP' # update this event in order to simulate the execution of the event\n",
    "dcr_sepsis = execute_and_check(event_to_execute1,dcr_sepsis,dcr_semantics)\n",
    "event_to_execute2 = 'ER Sepsis Triage' # update this event in order to simulate the execution of the event\n",
    "dcr_sepsis = execute_and_check(event_to_execute2,dcr_sepsis,dcr_semantics)"
   ]
  },
  {
   "cell_type": "markdown",
   "id": "228fe891ace2fdce",
   "metadata": {
    "collapsed": false
   },
   "source": [
    "2.3 (in the notebook): Now I can make 'Release D' pending. This has an effect on my acceptance criteria. Also I cannot execute 'Release D' yet, because I have to satisfy the condition chain which will eventually enable 'Release D'.\n",
    "What is the minimal sequence of events I need to execute before I am able to execute 'Release D' and return into an accepting state for my DCR Graph? "
   ]
  },
  {
   "cell_type": "code",
   "execution_count": null,
   "id": "5a1b3dde89450345",
   "metadata": {
    "collapsed": false
   },
   "outputs": [],
   "source": [
    "dcr_sepsis, _ = discover_alg.apply(sepsis_df)\n",
    "dcr_semantics = DcrSemantics()\n",
    "dcr_sepsis.marking.pending.add('Release D')\n",
    "print(f'[marking pending] {dcr_sepsis.marking.pending}')\n",
    "#TODO: execute the minimum number of events to enable 'Release D'\n",
    "dcr_sepsis = execute_and_check('Release D', dcr_sepsis, dcr_semantics)"
   ]
  },
  {
   "cell_type": "code",
   "execution_count": null,
   "id": "1384fc79247532cb",
   "metadata": {
    "collapsed": false
   },
   "outputs": [],
   "source": [
    "dcr_sepsis, _ = discover_alg.apply(sepsis_df) # we mine a fresh model because we've changed the marking by executing events\n",
    "dcr_exporter.apply(dcr_sepsis,'models/sepsis_from_notebook.xml') #this exports your model into a file which you can import in the dcrgraphs.net portal. You can find the model in the models folder"
   ]
  },
  {
   "cell_type": "code",
   "execution_count": null,
   "id": "a6bc224b08093e2b",
   "metadata": {
    "collapsed": false
   },
   "outputs": [],
   "source": [
    "event_log_file_non_returning = 'data/sepsis_non_returning.xes'\n",
    "event_log_file_returning = 'data/sepsis_returning.xes'\n",
    "non_returning_df = pm4py.read_xes('data/sepsis_non_returning.xes')\n",
    "returning_df = pm4py.read_xes('data/sepsis_returning.xes')\n",
    "#TODO: 1.5 run DisCoveR, export to the models folder, load them into the portal, run some descriptive statistics as seen above on the two subsets.\n",
    "non_returning_dcr, _ = discover_alg.apply(non_returning_df)\n",
    "returning_dcr, _ = discover_alg.apply(returning_df)"
   ]
  },
  {
   "cell_type": "code",
   "execution_count": null,
   "id": "844cbdca6902e5a9",
   "metadata": {
    "collapsed": false
   },
   "outputs": [],
   "source": [
    "non_returning_dcr"
   ]
  },
  {
   "cell_type": "code",
   "execution_count": null,
   "id": "cae4f1decd284d76",
   "metadata": {
    "collapsed": false
   },
   "outputs": [],
   "source": [
    "returning_dcr"
   ]
  },
  {
   "cell_type": "markdown",
   "id": "a0da0e2d26112cbd",
   "metadata": {
    "collapsed": false
   },
   "source": [
    "# Part 2.2 Conformance checking\n",
    "### Rule based conformance checking\n",
    "Note: Testing for conformance on the same data you used to discover your model will always be a perfect fit"
   ]
  },
  {
   "cell_type": "code",
   "execution_count": null,
   "id": "c9389d3c82a5d693",
   "metadata": {
    "collapsed": false
   },
   "outputs": [],
   "source": [
    "dcr_sepsis, _ = discover_alg.apply(sepsis_df)\n",
    "conformance_sepsis_df = pd.DataFrame(conformance_dcr.apply(sepsis_df,dcr_sepsis))\n",
    "print(f'[Deviation fitness] {conformance_sepsis_df[\"dev_fitness\"].mean()}')\n",
    "conformance_sepsis_df[conformance_sepsis_df['is_fit']==False]"
   ]
  },
  {
   "cell_type": "code",
   "execution_count": null,
   "id": "23badb9ec00a5db5",
   "metadata": {
    "collapsed": false
   },
   "outputs": [],
   "source": [
    "#TODO 2.2 Load the two models for conformance you created in the portal here\n",
    "conformance_choice_path = 'models/ add your file name here.xml'\n",
    "conformance_sequence_path = 'models/ add your file name here.xml'"
   ]
  },
  {
   "cell_type": "markdown",
   "id": "4c14aa53d0853592",
   "metadata": {
    "collapsed": false
   },
   "source": [
    "### Choice conformance"
   ]
  },
  {
   "cell_type": "code",
   "execution_count": null,
   "id": "ee4df99cd1eec9b0",
   "metadata": {
    "collapsed": false
   },
   "outputs": [],
   "source": [
    "conformance_choice = dcr_importer.apply(conformance_choice_path)\n",
    "conformance_sepsis_df = pd.DataFrame(conformance_dcr.apply(sepsis_df,conformance_choice))\n",
    "print(f'[Deviation fitness] {conformance_sepsis_df[\"dev_fitness\"].mean()}')\n",
    "print('Conforming traces:',len(conformance_sepsis_df[conformance_sepsis_df['is_fit']==True]))\n",
    "print('Non-conforming traces',len(conformance_sepsis_df[conformance_sepsis_df['is_fit']==False]))\n",
    "conformance_sepsis_df[conformance_sepsis_df['is_fit']==False]['deviations'].value_counts()"
   ]
  },
  {
   "cell_type": "code",
   "execution_count": null,
   "id": "af2c6b18834b83b0",
   "metadata": {
    "collapsed": false
   },
   "outputs": [],
   "source": [
    "conformance_choice = dcr_importer.apply(conformance_choice_path)\n",
    "conformance_sepsis_df = pd.DataFrame(conformance_dcr.apply(non_returning_df,conformance_choice))\n",
    "print(f'[Deviation fitness] {conformance_sepsis_df[\"dev_fitness\"].mean()}')\n",
    "print('Conforming traces:',len(conformance_sepsis_df[conformance_sepsis_df['is_fit']==True]))\n",
    "print('Non-conforming traces',len(conformance_sepsis_df[conformance_sepsis_df['is_fit']==False]))\n",
    "conformance_sepsis_df[conformance_sepsis_df['is_fit']==False]['deviations'].value_counts()"
   ]
  },
  {
   "cell_type": "code",
   "execution_count": null,
   "id": "673dbd5f0152f184",
   "metadata": {
    "collapsed": false
   },
   "outputs": [],
   "source": [
    "conformance_choice = dcr_importer.apply(conformance_choice_path)\n",
    "conformance_sepsis_df = pd.DataFrame(conformance_dcr.apply(returning_df,conformance_choice))\n",
    "print(f'[Deviation fitness] {conformance_sepsis_df[\"dev_fitness\"].mean()}')\n",
    "print('Conforming traces:',len(conformance_sepsis_df[conformance_sepsis_df['is_fit']==True]))\n",
    "print('Non-conforming traces',len(conformance_sepsis_df[conformance_sepsis_df['is_fit']==False]))\n",
    "conformance_sepsis_df[conformance_sepsis_df['is_fit']==False]['deviations'].value_counts()"
   ]
  },
  {
   "cell_type": "markdown",
   "id": "33f7eb4e747b8d80",
   "metadata": {
    "collapsed": false
   },
   "source": [
    "### Sequence conformance"
   ]
  },
  {
   "cell_type": "code",
   "execution_count": null,
   "id": "6ae7ed3bcb776a94",
   "metadata": {
    "collapsed": false
   },
   "outputs": [],
   "source": [
    "conformance_sequence = dcr_importer.apply(conformance_sequence_path)\n",
    "conformance_sepsis_df = pd.DataFrame(conformance_dcr.apply(sepsis_df,conformance_sequence))\n",
    "print(f'[Deviation fitness] {conformance_sepsis_df[\"dev_fitness\"].mean()}')\n",
    "print('Conforming traces:',len(conformance_sepsis_df[conformance_sepsis_df['is_fit']==True]))\n",
    "print('Non-conforming traces',len(conformance_sepsis_df[conformance_sepsis_df['is_fit']==False]))\n",
    "conformance_sepsis_df[conformance_sepsis_df['is_fit']==False]['deviations'].value_counts()"
   ]
  },
  {
   "cell_type": "code",
   "execution_count": null,
   "id": "c3add6af644abde7",
   "metadata": {
    "collapsed": false
   },
   "outputs": [],
   "source": [
    "conformance_sequence = dcr_importer.apply(conformance_sequence_path)\n",
    "conformance_sepsis_df = pd.DataFrame(conformance_dcr.apply(non_returning_df,conformance_sequence))\n",
    "print(f'[Deviation fitness] {conformance_sepsis_df[\"dev_fitness\"].mean()}')\n",
    "print('Conforming traces:',len(conformance_sepsis_df[conformance_sepsis_df['is_fit']==True]))\n",
    "print('Non-conforming traces',len(conformance_sepsis_df[conformance_sepsis_df['is_fit']==False]))\n",
    "conformance_sepsis_df[conformance_sepsis_df['is_fit']==False]['deviations'].value_counts()"
   ]
  },
  {
   "cell_type": "code",
   "execution_count": null,
   "id": "8aac20275e71c02c",
   "metadata": {
    "collapsed": false
   },
   "outputs": [],
   "source": [
    "conformance_sequence = dcr_importer.apply(conformance_sequence_path)\n",
    "conformance_sepsis_df = pd.DataFrame(conformance_dcr.apply(returning_df,conformance_sequence))\n",
    "print(f'[Deviation fitness] {conformance_sepsis_df[\"dev_fitness\"].mean()}')\n",
    "print('Conforming traces:',len(conformance_sepsis_df[conformance_sepsis_df['is_fit']==True]))\n",
    "print('Non-conforming traces',len(conformance_sepsis_df[conformance_sepsis_df['is_fit']==False]))\n",
    "conformance_sepsis_df[conformance_sepsis_df['is_fit']==False]['deviations'].value_counts()"
   ]
  },
  {
   "cell_type": "markdown",
   "id": "cf0deeb57623c923",
   "metadata": {
    "collapsed": false
   },
   "source": [
    "# Other Discovery algorithms for imperative notations\n",
    "### BPMN (observe the differences between the discovered model and the idealized one from the assignment 2.2 exercise)"
   ]
  },
  {
   "cell_type": "code",
   "execution_count": null,
   "id": "e9607ce76a8eafa7",
   "metadata": {
    "collapsed": false
   },
   "outputs": [],
   "source": [
    "bpmn_sepsis = pm4py.discovery.discover_bpmn_inductive(sepsis_df)\n",
    "pm4py.view_bpmn(bpmn_sepsis)"
   ]
  },
  {
   "cell_type": "markdown",
   "id": "b32c472d19ef8849",
   "metadata": {
    "collapsed": false
   },
   "source": [
    "## BPMN filtering to discover only from 0.8 (80%) most common traces."
   ]
  },
  {
   "cell_type": "code",
   "execution_count": null,
   "id": "9bda65c2a62a6681",
   "metadata": {
    "collapsed": false
   },
   "outputs": [],
   "source": [
    "bpmn_filtered = pm4py.discover_bpmn_inductive(sepsis_df, 0.8)\n",
    "pm4py.view_bpmn(bpmn_filtered)"
   ]
  },
  {
   "cell_type": "markdown",
   "id": "c1a547db2bec3755",
   "metadata": {
    "collapsed": false
   },
   "source": [
    "## Directly follows graph"
   ]
  },
  {
   "cell_type": "code",
   "execution_count": null,
   "id": "7399382a90f0f702",
   "metadata": {
    "collapsed": false
   },
   "outputs": [],
   "source": [
    "dfg, start_activities, end_activities = pm4py.discover_dfg(sepsis_df)\n",
    "pm4py.view_dfg(dfg, start_activities, end_activities)"
   ]
  },
  {
   "cell_type": "markdown",
   "id": "92353f0dea8d0b5d",
   "metadata": {
    "collapsed": false
   },
   "source": [
    "## A view of the Directly Follows Graph that shows only the top 20 most frequent edges"
   ]
  },
  {
   "cell_type": "code",
   "execution_count": null,
   "id": "36b6479155713c7a",
   "metadata": {
    "collapsed": false
   },
   "outputs": [],
   "source": [
    "pm4py.view_dfg(dfg, start_activities, end_activities, max_num_edges=20)"
   ]
  },
  {
   "cell_type": "markdown",
   "id": "54821823c4896009",
   "metadata": {
    "collapsed": false
   },
   "source": [
    "## Alignment based conformance\n",
    "Note: Testing for conformance on the same data you used to discover your model will always be a perfect fit"
   ]
  },
  {
   "cell_type": "code",
   "execution_count": null,
   "id": "7707d658c95fc04a",
   "metadata": {
    "collapsed": false
   },
   "outputs": [],
   "source": [
    "dcr_sepsis, _ = discover_alg.apply(sepsis_df)\n",
    "alignment_sepsis_df = pd.DataFrame(alignments_dcr.apply(sepsis_df,DcrGraph(template=dcr_sepsis.obj_to_template())))\n",
    "print(f'[Alignment fitness] {alignment_sepsis_df[\"fitness\"].mean()}')\n",
    "alignment_sepsis_df[alignment_sepsis_df['fitness']<1]"
   ]
  },
  {
   "cell_type": "code",
   "execution_count": null,
   "id": "97ffd4b55bca32a2",
   "metadata": {
    "collapsed": false
   },
   "outputs": [],
   "source": [
    "conformance_choice = dcr_importer.apply('models/sepsis_conformance_admission_mutual_exclusion.xml')\n",
    "alignment_sepsis_df = pd.DataFrame(alignments_dcr.apply(sepsis_df,DcrGraph(template=conformance_choice.obj_to_template())))\n",
    "print(f'[Deviation fitness] {alignment_sepsis_df[\"fitness\"].mean()}')\n",
    "print(len(alignment_sepsis_df[alignment_sepsis_df['fitness']==1]))\n",
    "print(len(alignment_sepsis_df[alignment_sepsis_df['fitness']!=1]))\n",
    "alignment_sepsis_df[alignment_sepsis_df['fitness']!=1]['alignment'].value_counts()"
   ]
  },
  {
   "cell_type": "code",
   "execution_count": null,
   "id": "f01a83df8e2d8b2e",
   "metadata": {
    "collapsed": false
   },
   "outputs": [],
   "source": [
    "conformance_sequence = dcr_importer.apply('models/sepsis_conformance_registration_triage_chain.xml')\n",
    "alignment_sepsis_df = pd.DataFrame(alignments_dcr.apply(sepsis_df,DcrGraph(template=conformance_sequence.obj_to_template())))\n",
    "print(f'[Deviation fitness] {alignment_sepsis_df[\"fitness\"].mean()}')\n",
    "print(len(alignment_sepsis_df[alignment_sepsis_df['fitness']==1]))\n",
    "print(len(alignment_sepsis_df[alignment_sepsis_df['fitness']!=1]))\n",
    "alignment_sepsis_df[alignment_sepsis_df['fitness']!=1]['alignment'].value_counts()"
   ]
  }
 ],
 "metadata": {
  "kernelspec": {
   "display_name": "Python 3",
   "language": "python",
   "name": "python3"
  },
  "language_info": {
   "codemirror_mode": {
    "name": "ipython",
    "version": 3
   },
   "file_extension": ".py",
   "mimetype": "text/x-python",
   "name": "python",
   "nbconvert_exporter": "python",
   "pygments_lexer": "ipython3",
   "version": "3.10.13"
  }
 },
 "nbformat": 4,
 "nbformat_minor": 5
}
